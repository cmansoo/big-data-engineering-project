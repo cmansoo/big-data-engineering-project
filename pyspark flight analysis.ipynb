{
 "cells": [
  {
   "cell_type": "code",
   "execution_count": 168,
   "id": "d5ec58f8",
   "metadata": {},
   "outputs": [],
   "source": [
    "from pyspark.sql import SparkSession, DataFrame\n",
    "from pyspark.sql.types import FloatType\n",
    "from pyspark.sql.functions import col, asc, desc, when, isnull, create_map\n",
    "from pyspark.ml.regression import LinearRegression\n",
    "from pyspark.ml.feature import VectorAssembler, StandardScaler\n",
    "from pyspark.ml.stat import Correlation\n",
    "from pyspark_dist_explore import hist\n",
    "from functools import reduce\n",
    "\n",
    "import matplotlib.pyplot as plt\n",
    "import pyspark\n",
    "import glob"
   ]
  },
  {
   "cell_type": "code",
   "execution_count": null,
   "id": "b7b09882",
   "metadata": {},
   "outputs": [],
   "source": [
    "spark = SparkSession.builder.appName(\"spark-sql\").config(\"spark.driver.memory\", \"32g\").getOrCreate()"
   ]
  },
  {
   "cell_type": "code",
   "execution_count": 57,
   "id": "ae163745",
   "metadata": {},
   "outputs": [],
   "source": [
    "# load data\n",
    "parquet_files = glob.glob('./data/*.parquet')\n",
    "\n",
    "dfs = []\n",
    "for f in parquet_files:\n",
    "    dfs.append(spark.read.parquet(f))\n",
    "    \n",
    "df_raw = reduce(DataFrame.union, dfs)\n",
    "\n",
    "df_raw.printSchema()"
   ]
  },
  {
   "cell_type": "code",
   "execution_count": 6,
   "id": "2feec15e",
   "metadata": {},
   "outputs": [],
   "source": [
    "# subset columns\n",
    "cols = [\n",
    "    \"FlightDate\",\n",
    "    \"Airline\",\n",
    "    \"Tail_Number\",\n",
    "    \"Flight_Number_Marketing_Airline\",\n",
    "    \"Origin\",\n",
    "    \"Dest\",\n",
    "    \"Cancelled\",\n",
    "    \"Diverted\",\n",
    "    \"DepDelayMinutes\",\n",
    "    \"CRSDepTime\",\n",
    "    \"DepTime\",\n",
    "    \"CRSArrTime\",\n",
    "    \"ArrTime\",\n",
    "    \"ArrDelayMinutes\",\n",
    "    \"AirTime\",\n",
    "    \"Distance\",\n",
    "    \"ArrivalDelayGroups\"\n",
    "]\n",
    "\n",
    "df = df_raw.select(*cols)"
   ]
  },
  {
   "cell_type": "code",
   "execution_count": 11,
   "id": "8c6448c4",
   "metadata": {},
   "outputs": [],
   "source": [
    "# create variable on_time\n",
    "\"\"\"\n",
    "on_time: (bool) if depdelaymin == 0 and arrdelaymin == 0 then true\n",
    "\"\"\"\n",
    "df = df.withColumn(\n",
    "    \"on_time\",\n",
    "    when(((col(\"ArrDelayMinutes\") == 0.0) | (col(\"DepDelayMinutes\") == 0.0)) & ~col(\"Cancelled\"), True)\n",
    "    .otherwise(False)\n",
    ")"
   ]
  },
  {
   "cell_type": "code",
   "execution_count": 12,
   "id": "fcfb9584",
   "metadata": {},
   "outputs": [],
   "source": [
    "# create variable delay_group\n",
    "\"\"\"\n",
    "delay_group: (string) delaymin == 0, on time\n",
    "                      delaymin > 0, delaymin <= 15, small delay\n",
    "                      delaymin > 15, delaymin <= 45, medium delay\n",
    "                      delaymin > 45, large  delay\n",
    "                      otherwise cancelled\n",
    "\"\"\"\n",
    "df = df.withColumn(\n",
    "    \"delay_group\",\n",
    "    when(col(\"on_time\"), \"On Time\")\n",
    "    .when(((col(\"DepDelayMinutes\") > 0) & (col(\"DepDelayMinutes\") <= 15)) | ((col(\"ArrDelayMinutes\") > 0) & (col(\"ArrDelayMinutes\") <= 15)), \"Small Delay\")\n",
    "    .when(((col(\"DepDelayMinutes\") > 15) & (col(\"DepDelayMinutes\") <= 45)) | ((col(\"ArrDelayMinutes\") > 15) & (col(\"ArrDelayMinutes\") <= 45)), \"Medium Delay\")\n",
    "    .when((col(\"DepDelayMinutes\") > 45) | (col(\"ArrDelayMinutes\") > 45), \"Large Delay\")\n",
    "    .otherwise(\"Cancelled\")\n",
    ")\n"
   ]
  },
  {
   "cell_type": "code",
   "execution_count": null,
   "id": "33b414c7",
   "metadata": {},
   "outputs": [],
   "source": [
    "# cast variable types long -> double\n",
    "cols_long = [\n",
    "    \"Flight_Number_Marketing_Airline\",        \n",
    "    \"CRSDepTime\",\n",
    "    \"CRSArrTime\"\n",
    "]\n",
    "\n",
    "for c in cols_long:\n",
    "    df = df.withColumn(c, col(c).cast(\"double\"))\n",
    "\n",
    "df.printSchema()"
   ]
  },
  {
   "cell_type": "code",
   "execution_count": null,
   "id": "f9e3dbf4",
   "metadata": {},
   "outputs": [],
   "source": [
    "# top 10 performers\n",
    "df_airline = df.groupBy(\"Airline\").count().withColumnRenamed(\"count\", \"total\")\n",
    "df_on_time = df.filter(col(\"delay_group\") == \"On Time\").groupBy(\"Airline\").count().withColumnRenamed(\"count\", \"on_time_count\")\n",
    "\n",
    "df_airline = df_airline \\\n",
    "    .join(df_on_time, \"Airline\") \\\n",
    "    .withColumn(\"pct\", (col(\"on_time_count\") / col(\"total\")))\n",
    "\n",
    "df_airline.orderBy(col(\"pct\").desc()).show(10, truncate = False)"
   ]
  },
  {
   "cell_type": "code",
   "execution_count": null,
   "id": "4eb168ec",
   "metadata": {},
   "outputs": [],
   "source": [
    "# bottom 10 performers\n",
    "df_airline.orderBy(col(\"pct\").asc()).show(10, truncate = False)"
   ]
  },
  {
   "cell_type": "code",
   "execution_count": null,
   "id": "9e57173f",
   "metadata": {},
   "outputs": [],
   "source": [
    "# unique plane ID\n",
    "df_plane = df.filter(~isnull(col(\"Tail_Number\"))).groupBy(\"Tail_Number\").count()\n",
    "df_plane.orderBy(col(\"count\").desc()).show(10)\n",
    "df_plane.distinct().count()"
   ]
  },
  {
   "cell_type": "code",
   "execution_count": 119,
   "id": "56f2660c",
   "metadata": {},
   "outputs": [],
   "source": [
    "# linear regression\n",
    "\n",
    "variables_d = [\n",
    "    \"DepDelayMinutes\",\n",
    "    \"CRSDepTime\",\n",
    "    \"DepTime\",\n",
    "    \"Distance\",\n",
    "    \"Cancelled\",\n",
    "    \"Diverted\",\n",
    "    \"on_time\"\n",
    "]\n",
    "\n",
    "variables_a = [\n",
    "    \"ArrDelayMinutes\",\n",
    "    \"CRSArrTime\",\n",
    "    \"ArrTime\",\n",
    "    \"Distance\",\n",
    "    \"Cancelled\",\n",
    "    \"Diverted\",\n",
    "    \"on_time\"\n",
    "]\n",
    "\n",
    "predictors_d = [\n",
    "    \"DepDelayMinutes\",\n",
    "    \"CRSDepTime\",\n",
    "    \"DepTime\",\n",
    "    \"Distance\",\n",
    "    \"Cancelled\",\n",
    "    \"Diverted\",\n",
    "    \"on_time\"\n",
    "]\n",
    "\n",
    "predictors_a = [\n",
    "    \"ArrDelayMinutes\",\n",
    "    \"CRSArrTime\",\n",
    "    \"ArrTime\",\n",
    "    \"Distance\",\n",
    "    \"Cancelled\",\n",
    "    \"Diverted\",\n",
    "    \"on_time\"\n",
    "]\n",
    "\n",
    "df_lr_d = df.select(*variables_d).dropna()\n",
    "df_lr_a = df.select(*variables_a).dropna()"
   ]
  },
  {
   "cell_type": "code",
   "execution_count": 104,
   "id": "5accee33",
   "metadata": {},
   "outputs": [],
   "source": [
    "# departure delay\n",
    "# put predoctors into a vector column\n",
    "assembler = VectorAssembler(inputCols = predictors_d, outputCol = \"features\")\n",
    "assembled_df_d = assembler.transform(df_lr_d)\n",
    "\n",
    "# assembled_df_d.show()\n",
    "\n",
    "# subset features and response\n",
    "df_analysis_d = assembled_df_d.select(\"features\", \"DepDelayMinutes\")\n",
    "\n",
    "# split data intro train and test\n",
    "train_data_d, test_data_d = assembled_df_d.randomSplit([0.7, 0.3])\n",
    "\n",
    "# build model\n",
    "lr_d = LinearRegression(featuresCol = \"features\", labelCol = \"DepDelayMinutes\", predictionCol = \"predDepDelay\")\n",
    "\n",
    "# fit data to model\n",
    "mod_d = lr_d.fit(train_data_d)"
   ]
  },
  {
   "cell_type": "code",
   "execution_count": null,
   "id": "fc03222d",
   "metadata": {},
   "outputs": [],
   "source": [
    "# regression coefficients departure\n",
    "d = [mod_d.intercept]\n",
    "coeffs_d = mod_d.coefficients.toArray().tolist()\n",
    "\n",
    "for elem in coeffs_d:\n",
    "    d.append(elem)\n",
    "\n",
    "vars_d = variables_d\n",
    "vars_d[0] = \"intercept\"\n",
    "vars_d\n",
    "\n",
    "data_d = list(map(lambda x, y: (x, y), vars_d, d))\n",
    "cols_d = [\"variable\", \"coeffcient\"]\n",
    "\n",
    "coef_df_d = spark.createDataFrame(data_d, cols_d)\n",
    "coef_df_d.show(truncate = False)"
   ]
  },
  {
   "cell_type": "code",
   "execution_count": null,
   "id": "93c47f47",
   "metadata": {},
   "outputs": [],
   "source": [
    "# generate predictions departure\n",
    "pred_results_d = mod_d.transform(test_data_d)\n",
    "pred_results_d.select(\"DepDelayMinutes\", \"PredDepDelay\").show(truncate = False)"
   ]
  },
  {
   "cell_type": "code",
   "execution_count": 181,
   "id": "7ae77c8c",
   "metadata": {},
   "outputs": [],
   "source": [
    "# arrival delay\n",
    "# put predoctors into a vector column\n",
    "assembler = VectorAssembler(inputCols = predictors_a, outputCol = \"features\")\n",
    "assembled_df_a = assembler.transform(df_lr_a)\n",
    "\n",
    "# assembled_df_a.show()\n",
    "\n",
    "# subset features and response\n",
    "df_analysis_a = assembled_df_a.select(\"features\", \"ArrDelayMinutes\")\n",
    "\n",
    "# split data intro train and test\n",
    "train_data_a, test_data_a = assembled_df_a.randomSplit([0.7, 0.3])\n",
    "\n",
    "# build model\n",
    "lr_a = LinearRegression(featuresCol = \"features\", labelCol = \"ArrDelayMinutes\", predictionCol = \"predArrDelay\")\n",
    "\n",
    "# fit data to model\n",
    "mod_a = lr_a.fit(train_data_a)"
   ]
  },
  {
   "cell_type": "code",
   "execution_count": null,
   "id": "cd427873",
   "metadata": {},
   "outputs": [],
   "source": [
    "# regression coefficients arrival\n",
    "a = [mod_a.intercept]\n",
    "coeffs_a = mod_a.coefficients.toArray().tolist()\n",
    "\n",
    "for elem in coeffs_a:\n",
    "    a.append(elem)\n",
    "\n",
    "data_a = list(map(lambda x, y: (x, y), vars_d, a))\n",
    "\n",
    "coef_df_a = spark.createDataFrame(data_a, cols_d)\n",
    "coef_df_a.show(truncate = False)"
   ]
  },
  {
   "cell_type": "code",
   "execution_count": null,
   "id": "52178613",
   "metadata": {},
   "outputs": [],
   "source": [
    "#print predicted results arrival\n",
    "pred_results_a = mod_a.transform(test_data_a)\n",
    "pred_results_a.select(\"ArrDelayMinutes\", \"predArrDelay\").show(truncate = False)"
   ]
  },
  {
   "cell_type": "code",
   "execution_count": 186,
   "id": "2c153877",
   "metadata": {},
   "outputs": [
    {
     "data": {
      "text/plain": [
       "(array([2.8269076e+07, 1.2285000e+05, 1.7885000e+04, 1.2041000e+04,\n",
       "        6.1200000e+03, 1.8810000e+03, 5.9000000e+02, 1.3500000e+02,\n",
       "        5.7000000e+01, 2.1000000e+01, 2.0000000e+01, 8.0000000e+00,\n",
       "        1.0000000e+01, 0.0000000e+00, 0.0000000e+00, 0.0000000e+00,\n",
       "        1.0000000e+00, 1.0000000e+00, 0.0000000e+00, 0.0000000e+00,\n",
       "        0.0000000e+00, 0.0000000e+00, 1.0000000e+00, 0.0000000e+00,\n",
       "        0.0000000e+00, 0.0000000e+00, 0.0000000e+00, 0.0000000e+00,\n",
       "        0.0000000e+00, 1.0000000e+00]),\n",
       " array([   0.        ,  240.76666667,  481.53333333,  722.3       ,\n",
       "         963.06666667, 1203.83333333, 1444.6       , 1685.36666667,\n",
       "        1926.13333333, 2166.9       , 2407.66666667, 2648.43333333,\n",
       "        2889.2       , 3129.96666667, 3370.73333333, 3611.5       ,\n",
       "        3852.26666667, 4093.03333333, 4333.8       , 4574.56666667,\n",
       "        4815.33333333, 5056.1       , 5296.86666667, 5537.63333333,\n",
       "        5778.4       , 6019.16666667, 6259.93333333, 6500.7       ,\n",
       "        6741.46666667, 6982.23333333, 7223.        ]),\n",
       " <BarContainer object of 30 artists>)"
      ]
     },
     "execution_count": 186,
     "metadata": {},
     "output_type": "execute_result"
    },
    {
     "data": {
      "image/png": "[encoded data removed]",
      "text/plain": [
       "<Figure size 640x480 with 1 Axes>"
      ]
     },
     "metadata": {},
     "output_type": "display_data"
    }
   ],
   "source": [
    "# plot histogram\n",
    "fig, ax = plt.subplots()\n",
    "\n",
    "ax.set_title(\"Flight Delay\")\n",
    "ax.set_xlabel('Departure Delay in minutes')\n",
    "ax.set_ylabel('Frequency')\n",
    "\n",
    "hist(ax, df.select('DepDelayMinutes'), bins = 30)"
   ]
  }
 ],
 "metadata": {
  "kernelspec": {
   "display_name": "Python 3 (ipykernel)",
   "language": "python",
   "name": "python3"
  },
  "language_info": {
   "codemirror_mode": {
    "name": "ipython",
    "version": 3
   },
   "file_extension": ".py",
   "mimetype": "text/x-python",
   "name": "python",
   "nbconvert_exporter": "python",
   "pygments_lexer": "ipython3",
   "version": "3.9.13"
  }
 },
 "nbformat": 4,
 "nbformat_minor": 5
}
